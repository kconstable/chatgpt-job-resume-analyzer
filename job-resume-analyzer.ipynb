{
 "cells": [
  {
   "attachments": {},
   "cell_type": "markdown",
   "metadata": {},
   "source": [
    "## Libraries"
   ]
  },
  {
   "cell_type": "code",
   "execution_count": 11,
   "metadata": {},
   "outputs": [],
   "source": [
    "import openai\n",
    "import requests\n",
    "import pandas as pd\n",
    "from bs4 import BeautifulSoup\n",
    "import docx2txt\n",
    "import PyPDF2 "
   ]
  },
  {
   "attachments": {},
   "cell_type": "markdown",
   "metadata": {},
   "source": [
    "## Authentication"
   ]
  },
  {
   "cell_type": "code",
   "execution_count": 12,
   "metadata": {},
   "outputs": [],
   "source": [
    "def get_openai_auth(path='data/api-key.txt'):\n",
    "    with open(path, 'r') as f:\n",
    "        key = f.readline().strip()\n",
    "    return str(key)\n",
    "\n",
    "key = get_openai_auth()\n",
    "openai.api_key = key"
   ]
  },
  {
   "attachments": {},
   "cell_type": "markdown",
   "metadata": {},
   "source": [
    "## Feed Scape"
   ]
  },
  {
   "cell_type": "code",
   "execution_count": 14,
   "metadata": {},
   "outputs": [],
   "source": [
    "def get_linkedin_jobs(urls):\n",
    "    \"\"\"\n",
    "    LinkedIn\n",
    "    Parse linkedin job link and extract the description and job title\n",
    "    \"\"\"\n",
    "    \n",
    "    start_text = 'Submit\\n\\n\\n\\n\\n\\n\\n\\n\\n\\n\\n\\n\\n\\n\\n\\n\\n \\n\\n \\n\\n\\n\\n\\n\\n\\n\\n\\n\\n\\n\\n\\n'\n",
    "    stop_text = 'Show more\\n\\n'\n",
    "    \n",
    "    print(\"Scrapping RSS Job Search Feed\")\n",
    "    print(\"=\"*100)\n",
    "    jobs = []\n",
    "    for url in urls:\n",
    "        try:\n",
    "            # get content\n",
    "            r = requests.get(url)\n",
    "            soup = BeautifulSoup(r.content)\n",
    "            jd = soup.text\n",
    "\n",
    "            # parse the text\n",
    "            start = jd.find(start_text)\n",
    "            stop = jd.find(stop_text)\n",
    "            desc = jd[start:stop]\n",
    "            desc = desc.replace(start_text,'').replace(stop_text,'').strip()\n",
    "\n",
    "            # get the job title\n",
    "            title = soup.find('h1').text\n",
    "\n",
    "            jobs.append({'title':title,'company':'unknown','location':'unknown','desc':desc,'keywords':[]})\n",
    "\n",
    "            # print progress\n",
    "            print(f\"{title[:30]:{30}}| {desc[:60]}...\")\n",
    "        except Exception as e:\n",
    "            print(f\"Error scrapping LinkedIn:{e}\")\n",
    "    return jobs"
   ]
  },
  {
   "cell_type": "code",
   "execution_count": 15,
   "metadata": {},
   "outputs": [
    {
     "name": "stdout",
     "output_type": "stream",
     "text": [
      "Scrapping RSS Job Search Feed\n",
      "====================================================================================================\n",
      "\n",
      "2,000+ Strategy Analyst Jobs | ...\n",
      "\n",
      "352 Quantitative Analyst Jobs| ...\n",
      "Quantitative Analyst          | About Upfeat MediaUpfeat is on a mission to be the leader in...\n",
      "\n",
      "751 Manager Of Machine Learni| ...\n",
      "Managing Director, Business In| Company DescriptionMake an impact at a global and dynamic in...\n",
      "Data Scientist II - Machine Le| Credit Sesame is a financial app for consumers who want to b...\n",
      "Senior Analyst, Business Intel| Company DescriptionMake an impact at a global and dynamic in...\n",
      "\n",
      "10,000+ Data Scientist Jobs i| ...\n",
      "Lead Data Scientist, Finance  | About this role:We are seeking a Lead Data Scientist with ex...\n",
      "Associate/Senior Associate, Da| Company DescriptionMake an impact at a global and dynamic in...\n",
      "\n",
      "194 Senior Data Scientist Job| ...\n",
      "Principal Research Data Scient| Leads and executes deep dive diagnostic, predictive, and pre...\n",
      "Senior Machine Learning Engine| Our client, a startup based in Toronto, is seeking a Machine...\n",
      "Senior Data Scientist, Experim| ...\n",
      "Senior Data Scientist         | We all have important information we need to manage, and pro...\n",
      "Data Scientist                | ...\n",
      "\n",
      "10,000+ Data Scientist Jobs i| ...\n",
      "Quantitative Finance Applicati| In a world of disruption and increasingly complex business c...\n"
     ]
    }
   ],
   "source": [
    "urls = [\n",
    "    'https://www.linkedin.com/jobs/view/3549932260/?refId=dbfa93b5-d784-445b-97f8-29d8f9ad0646&trackingId=jftaQgEdSpiSvntR2k17cQ%3D%3D',\n",
    "    'https://www.linkedin.com/jobs/view/3540697616/?refId=59a513ba-522a-4aea-af91-759ff6f76cda&trackingId=2hyQIrX%2BRkOf%2B98YR1qBJA%3D%3D',\n",
    "    'https://www.linkedin.com/jobs/view/3562298970/?refId=54f09146-9c3e-40e8-ac3c-595f85731463&trackingId=k0bOqRvwSRCieTxu5mwfhg%3D%3D',\n",
    "    'https://www.linkedin.com/jobs/view/3564381193/?refId=b670d576-6f5e-4a0e-96f7-3903c26a7d54&trackingId=nR%2FGTzkWR6uQzB6FcnQVWg%3D%3D',\n",
    "    'https://www.linkedin.com/jobs/view/3511070628/?refId=52f1cd7e-492f-46d4-894e-ab9ec08714f3&trackingId=SdhJHD3hRf61c5CnOOCOuw%3D%3D',\n",
    "    'https://www.linkedin.com/jobs/view/3552670722/?refId=9c54e362-c54a-49f4-8d25-5639afc7d65e&trackingId=GUoqINtfSuWsAtaXC293SA%3D%3D',\n",
    "    'https://www.linkedin.com/jobs/view/3492994174/?refId=0436884b-6af1-412d-8711-21574b7e80da&trackingId=GYxBqHwDTHqqRAZN3vhSOA%3D%3D',\n",
    "    'https://www.linkedin.com/jobs/view/3523929176/?refId=f06fd3a4-e203-418a-beae-9762646a74db&trackingId=HHBPl3eGRZ%2Bym6at%2Fjopig%3D%3D',\n",
    "    'https://www.linkedin.com/jobs/view/3503331250/?refId=9b080d13-deec-416e-b1c8-552165f513c0&trackingId=NGekzdgoQKei%2Fb6zSKO2%2BQ%3D%3D',\n",
    "    'https://www.linkedin.com/jobs/view/3408328555/?alternateChannel=search&refId=oX5cyhsmI7zOQyRPBo0f7Q%3D%3D&trackingId=BajQQkTagVRK2lZohfr5Yg%3D%3D',\n",
    "    'https://www.linkedin.com/jobs/view/3568963865/?refId=bc1c7e62-b103-4cf0-a4e9-66f20b87bd31&trackingId=3NJ%2BVJGpSlCYPvIldHBErw%3D%3D',\n",
    "    'https://www.linkedin.com/jobs/view/3603450410/?refId=82be66b8-b28e-4cf0-b0e4-8b41711cbeec&trackingId=nqsYPLMQQpCraxTKReeBbA%3D%3D',\n",
    "    'https://www.linkedin.com/jobs/view/3602324894/?refId=3063ff17-7a41-48aa-befa-0dde58b0221a&trackingId=CGVdLUP5RmmEdctLP%2FuW1A%3D%3D',\n",
    "    'https://www.linkedin.com/jobs/view/3586705675/?refId=004b1cd6-ce00-47ad-a6df-143e20e7f7f6&trackingId=vXlOqlYkSyKekz98Nw0Mdw%3D%3D',\n",
    "    'https://www.linkedin.com/jobs/view/3587185876/?refId=01bb2a72-770c-4faf-bbc7-8e5bad1764c1&trackingId=DjXELnTKRzyA1R5C2gmCxA%3D%3D',\n",
    "    'https://www.linkedin.com/jobs/view/3598846530/?refId=c3f374fd-11d7-431c-ab51-cbe36fcdde66&trackingId=RmnRmZ98QfiyKN3IumH6%2Bg%3D%3D',\n",
    "    'https://www.linkedin.com/jobs/view/3571402682/?refId=86a4d9e7-ba0a-481b-8c40-21a6680550be&trackingId=fDr%2BWOFWSZGWq4fLuNp0MA%3D%3D',\n",
    "    'https://www.linkedin.com/jobs/view/3562148114/?refId=b8a69f54-26ba-4356-bc96-f79f8552c077&trackingId=%2FhlnaWK5SFalqAq8C%2BkCFg%3D%3D'\n",
    "]\n",
    "\n",
    "jobs_ln = get_linkedin_jobs(urls)"
   ]
  },
  {
   "attachments": {},
   "cell_type": "markdown",
   "metadata": {},
   "source": [
    "## Resume Scrape"
   ]
  },
  {
   "cell_type": "code",
   "execution_count": 32,
   "metadata": {},
   "outputs": [],
   "source": [
    "def get_resume_text(path,print_text=True):\n",
    "    \"\"\" \n",
    "    Read resume text content from file (pdf or docx)\n",
    "    Params:\n",
    "        path: string- path to the resume file\n",
    "        print_text: boolean.  Prints the text\n",
    "    Returns: A text object with the resume file content\n",
    "    \"\"\"\n",
    "    \n",
    "    # open file and get file extension\n",
    "    file = open(path,'rb')\n",
    "    file_name, file_ext = os.path.splitext(path)\n",
    "    \n",
    "    # extract text content\n",
    "    if file_ext=='.pdf':\n",
    "        # read pdf\n",
    "        pdf = PyPDF2.PdfFileReader(file)\n",
    "        \n",
    "        text = \"\"\"\"\"\"\n",
    "        for page_num in range(pdf.numPages):\n",
    "            page = pdf.getPage(page_num)\n",
    "            content = page.extract_text()\n",
    "            text += content\n",
    "    elif file_ext=='.docx':\n",
    "        text = docx2txt.process(file)\n",
    "        text = text.strip().replace('\\n','')\n",
    "    elif file_ext=='.txt':\n",
    "        text = str(file.read())\n",
    "        \n",
    "    if print_text:\n",
    "        print(text)\n",
    "\n",
    "    file.close()\n",
    "    return text"
   ]
  },
  {
   "cell_type": "code",
   "execution_count": 47,
   "metadata": {},
   "outputs": [],
   "source": [
    "# get resume + cover letter\n",
    "r = get_resume_text('data/resume2023.docx',False) \n",
    "cl = get_resume_text('data/cover_letter.docx',False)\n",
    "resume = cl + r\n"
   ]
  },
  {
   "attachments": {},
   "cell_type": "markdown",
   "metadata": {},
   "source": [
    "## Chat Functions"
   ]
  },
  {
   "cell_type": "code",
   "execution_count": 13,
   "metadata": {},
   "outputs": [],
   "source": [
    "def get_completion(prompt, model=\"gpt-3.5-turbo\", temp = 0):\n",
    "    messages = [{\"role\": \"user\", \"content\": prompt}]\n",
    "    response = openai.ChatCompletion.create(\n",
    "        model=model,\n",
    "        messages=messages,\n",
    "        temperature=temp\n",
    "    )\n",
    "    return response.choices[0].message[\"content\"]"
   ]
  },
  {
   "cell_type": "code",
   "execution_count": 43,
   "metadata": {},
   "outputs": [
    {
     "data": {
      "text/plain": [
       "\"\\ngenerate a list of skills and job titles from the cover letter that is delimited by || \\nThe task is to extract a list of technical skills from the resume and cover letter.  \\nCalculate the frequency of each skill that is extacted from the resume and cover letter.\\nReturn a list of technical skills in JSON format with the following keys: \\nskill_name, frequency \\n|April 27, 2023Dear Hiring Manager,I am writing to express my interest in the Data Scientist position at Polar Asset Management. I feel that this career opportunity offered with your organization is a strong match for my experience in data science and investment research and aligns with my interest in developing alternative data products for investment research.As a Chartered Financial Analyst with a Master’s degree in Data Science I have over 15 years of experience working on data-driven projects. Over the last 13 years, I have worked independently as a technology consultant, primarily in capital markets. I have held various quantitative roles, including data science & analytics, dashboard development, performance attribution, financial modeling & simulations, and I have substantial experience  building data pipelines and data visualizations.In my current role at Firmex, I am the principal data scientist building machine-learning models to forecast customer behavior, predict mergers and acquisition activity, optimize product features, and forecast revenue and expenses.  I am adept at building and automating scalable data pipelines using large structured and unstructured datasets. What sets me apart from others are strong technical skills, coupled with excellent communication skills.  I can gather requirements from stakeholders, design solutions, write the code and communicate the results to executives.I recently completed a master's degree in Data Science through Regis University where I maintained a 4.0-grade point average specializing in machine learning, deep learning, natural language processing, and reinforcement learning. I am passionate about technology and conduct and publish my own research in my spare time.  I also enjoy building data visualizations and feel I have a knack for communicating complex data concepts. Check out my github repository to see some of my recent projects, including my capstone project where I used deep learning to create a successful Bitcoin trading strategy. Should I have piqued your interest I would welcome the chance to discuss your needs and outline my strengths in person. Thank you for your time and consideration of my resume.Ken Constable|\\n\\n\""
      ]
     },
     "execution_count": 43,
     "metadata": {},
     "output_type": "execute_result"
    }
   ],
   "source": [
    "prompt = f\"\"\"\n",
    "generate a list of skills and job titles from the cover letter that is delimited by || \n",
    "The task is to extract a list of technical skills from the resume and cover letter.  \n",
    "Calculate the frequency of each skill that is extacted from the resume and cover letter.\n",
    "Return a list of technical skills in JSON format with the following keys: \n",
    "skill_name, frequency \\\n",
    "\n",
    "|{cl}|\n",
    "\n",
    "\"\"\"\n",
    "prompt"
   ]
  },
  {
   "cell_type": "code",
   "execution_count": 44,
   "metadata": {},
   "outputs": [],
   "source": [
    "skills  = get_completion(prompt)\n",
    "print(skills)"
   ]
  },
  {
   "cell_type": "code",
   "execution_count": 46,
   "metadata": {},
   "outputs": [
    {
     "name": "stdout",
     "output_type": "stream",
     "text": [
      "{\n",
      "  \"skills\": [\n",
      "    {\n",
      "      \"skill_name\": \"data science\",\n",
      "      \"frequency\": 3\n",
      "    },\n",
      "    {\n",
      "      \"skill_name\": \"investment research\",\n",
      "      \"frequency\": 2\n",
      "    },\n",
      "    {\n",
      "      \"skill_name\": \"Chartered Financial Analyst\",\n",
      "      \"frequency\": 1\n",
      "    },\n",
      "    {\n",
      "      \"skill_name\": \"Master's degree in Data Science\",\n",
      "      \"frequency\": 2\n",
      "    },\n",
      "    {\n",
      "      \"skill_name\": \"quantitative analysis\",\n",
      "      \"frequency\": 1\n",
      "    },\n",
      "    {\n",
      "      \"skill_name\": \"dashboard development\",\n",
      "      \"frequency\": 1\n",
      "    },\n",
      "    {\n",
      "      \"skill_name\": \"performance attribution\",\n",
      "      \"frequency\": 1\n",
      "    },\n",
      "    {\n",
      "      \"skill_name\": \"financial modeling\",\n",
      "      \"frequency\": 1\n",
      "    },\n",
      "    {\n",
      "      \"skill_name\": \"data pipelines\",\n",
      "      \"frequency\": 2\n",
      "    },\n",
      "    {\n",
      "      \"skill_name\": \"data visualizations\",\n",
      "      \"frequency\": 2\n",
      "    },\n",
      "    {\n",
      "      \"skill_name\": \"machine learning\",\n",
      "      \"frequency\": 2\n",
      "    },\n",
      "    {\n",
      "      \"skill_name\": \"deep learning\",\n",
      "      \"frequency\": 1\n",
      "    },\n",
      "    {\n",
      "      \"skill_name\": \"natural language processing\",\n",
      "      \"frequency\": 1\n",
      "    },\n",
      "    {\n",
      "      \"skill_name\": \"reinforcement learning\",\n",
      "      \"frequency\": 1\n",
      "    },\n",
      "    {\n",
      "      \"skill_name\": \"GitHub\",\n",
      "      \"frequency\": 1\n",
      "    },\n",
      "    {\n",
      "      \"skill_name\": \"communication\",\n",
      "      \"frequency\": 2\n",
      "    }\n",
      "  ]\n",
      "}\n"
     ]
    }
   ],
   "source": [
    "print(skills)"
   ]
  }
 ],
 "metadata": {
  "kernelspec": {
   "display_name": "NLP",
   "language": "python",
   "name": "python3"
  },
  "language_info": {
   "codemirror_mode": {
    "name": "ipython",
    "version": 3
   },
   "file_extension": ".py",
   "mimetype": "text/x-python",
   "name": "python",
   "nbconvert_exporter": "python",
   "pygments_lexer": "ipython3",
   "version": "3.9.16"
  },
  "orig_nbformat": 4
 },
 "nbformat": 4,
 "nbformat_minor": 2
}
